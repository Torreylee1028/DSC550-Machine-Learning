{
 "cells": [
  {
   "cell_type": "markdown",
   "metadata": {},
   "source": [
    "## Code Review 2\n",
    "## Week 2\n",
    "## Exercise 4: Mining of Massive Datasets Text"
   ]
  },
  {
   "cell_type": "markdown",
   "metadata": {},
   "source": [
    "### Exercise 3.1.1"
   ]
  },
  {
   "cell_type": "code",
   "execution_count": 1,
   "metadata": {},
   "outputs": [],
   "source": [
    "s1 = {1, 2, 3, 4}\n",
    "s2 = {2, 3, 5, 7}\n",
    "s3 = {2, 4, 6}"
   ]
  },
  {
   "cell_type": "code",
   "execution_count": 2,
   "metadata": {},
   "outputs": [],
   "source": [
    "def jaccard_sim (x, y):\n",
    "    intx = len(x & y)\n",
    "    union = len(x | y)\n",
    "    jacard_sim = intx/union\n",
    "    return jacard_sim"
   ]
  },
  {
   "cell_type": "markdown",
   "metadata": {},
   "source": [
    "Jaccard Similarity of set 1 and set 2"
   ]
  },
  {
   "cell_type": "code",
   "execution_count": 3,
   "metadata": {},
   "outputs": [
    {
     "data": {
      "text/plain": [
       "0.3333333333333333"
      ]
     },
     "execution_count": 3,
     "metadata": {},
     "output_type": "execute_result"
    }
   ],
   "source": [
    "jaccard_sim(s1, s2)"
   ]
  },
  {
   "cell_type": "markdown",
   "metadata": {},
   "source": [
    "Jaccard Similarity of set 2 and set 3"
   ]
  },
  {
   "cell_type": "code",
   "execution_count": 4,
   "metadata": {},
   "outputs": [
    {
     "data": {
      "text/plain": [
       "0.16666666666666666"
      ]
     },
     "execution_count": 4,
     "metadata": {},
     "output_type": "execute_result"
    }
   ],
   "source": [
    "jaccard_sim(s2, s3)"
   ]
  },
  {
   "cell_type": "markdown",
   "metadata": {},
   "source": [
    "Jaccard Similarity of set 1 and set 3"
   ]
  },
  {
   "cell_type": "code",
   "execution_count": 5,
   "metadata": {},
   "outputs": [
    {
     "data": {
      "text/plain": [
       "0.4"
      ]
     },
     "execution_count": 5,
     "metadata": {},
     "output_type": "execute_result"
    }
   ],
   "source": [
    "jaccard_sim(s1, s3)"
   ]
  },
  {
   "cell_type": "markdown",
   "metadata": {},
   "source": [
    "Jaccard Similarity of all three sets"
   ]
  },
  {
   "cell_type": "code",
   "execution_count": 6,
   "metadata": {},
   "outputs": [],
   "source": [
    "intx = len(s1 & s2 & s3)\n",
    "union = len(s1 | s2 | s3)"
   ]
  },
  {
   "cell_type": "code",
   "execution_count": 7,
   "metadata": {},
   "outputs": [
    {
     "data": {
      "text/plain": [
       "0.14285714285714285"
      ]
     },
     "execution_count": 7,
     "metadata": {},
     "output_type": "execute_result"
    }
   ],
   "source": [
    "intx/union"
   ]
  },
  {
   "cell_type": "markdown",
   "metadata": {},
   "source": [
    "### Exercise 3.2.1"
   ]
  },
  {
   "cell_type": "code",
   "execution_count": 8,
   "metadata": {},
   "outputs": [],
   "source": [
    "words = 'The most effective way to represent documents as sets for the purpose of identifying lexically similar documents is to construct from the document the set of short strings that appear within it.'"
   ]
  },
  {
   "cell_type": "code",
   "execution_count": 9,
   "metadata": {},
   "outputs": [],
   "source": [
    "# function to create k-shingles based on individual words and n output\n",
    "\n",
    "def shingles_words(string, k, n):      # k length shingles  n output\n",
    "    string = string.split(' ')          # split string on white space\n",
    "    shingles = []\n",
    "    for i in range(len(string[:n+2])-k+1):    # range in length of string or n plus k + 1\n",
    "        s = ' '.join(string[i:i+k])     # join k words back together for each word through word plus k\n",
    "        shingles.append(s)              # append s to shingles\n",
    "    return shingles"
   ]
  },
  {
   "cell_type": "code",
   "execution_count": 10,
   "metadata": {},
   "outputs": [
    {
     "data": {
      "text/plain": [
       "['The most effective',\n",
       " 'most effective way',\n",
       " 'effective way to',\n",
       " 'way to represent',\n",
       " 'to represent documents',\n",
       " 'represent documents as',\n",
       " 'documents as sets',\n",
       " 'as sets for',\n",
       " 'sets for the',\n",
       " 'for the purpose']"
      ]
     },
     "execution_count": 10,
     "metadata": {},
     "output_type": "execute_result"
    }
   ],
   "source": [
    "shingles_words(words, 3, 10)"
   ]
  },
  {
   "cell_type": "code",
   "execution_count": 11,
   "metadata": {},
   "outputs": [],
   "source": [
    "# function to create k-shingles based on characters and n output\n",
    "\n",
    "def shingles_char(string, k, n):             # k length shingles   n output\n",
    "    shingles = []\n",
    "    for i in range(len(string[:n+2])-k+1):   # range in length of string or n plus k+1 \n",
    "        shingles.append(string[i:i+k])       # append letter through k to shingles list \n",
    "    return shingles"
   ]
  },
  {
   "cell_type": "code",
   "execution_count": 12,
   "metadata": {},
   "outputs": [
    {
     "data": {
      "text/plain": [
       "['The', 'he ', 'e m', ' mo', 'mos', 'ost', 'st ', 't e', ' ef', 'eff']"
      ]
     },
     "execution_count": 12,
     "metadata": {},
     "output_type": "execute_result"
    }
   ],
   "source": [
    "shingles_char(words, 3, 10)"
   ]
  },
  {
   "cell_type": "markdown",
   "metadata": {},
   "source": [
    "### Exercise 3.3.3"
   ]
  },
  {
   "cell_type": "code",
   "execution_count": 13,
   "metadata": {},
   "outputs": [],
   "source": [
    "import pandas as pd\n",
    "import sys\n",
    "import numpy as np"
   ]
  },
  {
   "cell_type": "markdown",
   "metadata": {},
   "source": [
    "#### (A)"
   ]
  },
  {
   "cell_type": "markdown",
   "metadata": {},
   "source": [
    "Matrix"
   ]
  },
  {
   "cell_type": "code",
   "execution_count": 14,
   "metadata": {},
   "outputs": [],
   "source": [
    "matrix = np.array([[0, 1, 0, 1],\n",
    "          [0, 1, 0, 0],\n",
    "          [1, 0, 0, 1],\n",
    "          [0, 0, 1, 0],\n",
    "          [0, 0, 1, 1],\n",
    "          [1, 0, 0, 0]])"
   ]
  },
  {
   "cell_type": "markdown",
   "metadata": {},
   "source": [
    "Hash Functions"
   ]
  },
  {
   "cell_type": "code",
   "execution_count": 15,
   "metadata": {},
   "outputs": [],
   "source": [
    "def h1(r):\n",
    "    h1 = (2*r + 1) % 6\n",
    "    return h1"
   ]
  },
  {
   "cell_type": "code",
   "execution_count": 16,
   "metadata": {},
   "outputs": [],
   "source": [
    "def h2(r):\n",
    "    h2 = (3*r + 2) % 6\n",
    "    return h2"
   ]
  },
  {
   "cell_type": "code",
   "execution_count": 17,
   "metadata": {},
   "outputs": [],
   "source": [
    "def h3(r):\n",
    "    h3 = (5*r + 2) % 6\n",
    "    return h3"
   ]
  },
  {
   "cell_type": "markdown",
   "metadata": {},
   "source": [
    "Minhash Signiture"
   ]
  },
  {
   "cell_type": "code",
   "execution_count": 18,
   "metadata": {},
   "outputs": [],
   "source": [
    "def minhash_sig_matrix(matrix, hash_functions):\n",
    "    rows = len(matrix)           # number of rows\n",
    "    cols = len(matrix[0])        # number of columns - length of first array\n",
    "    n_hash = len(hash_functions)   # number of hash functions \n",
    "\n",
    "    minhash_sig_matrix = []         # create empty signature matrix\n",
    "    for i in range(n_hash):   # for each n hash function\n",
    "        minhash_sig_matrix.append([sys.maxsize] * cols)   # add infinity with maxsize * num of columns to sig matrix\n",
    "    \n",
    "    minhash_sig_matrix = np.asarray(minhash_sig_matrix) # convert sig matrix list to np matrix\n",
    "    \n",
    "    for r in range(rows): \n",
    "        hashfunc = list(map(lambda x: x(r), hash_functions)) # for each hash function map it to each row r\n",
    "        # if data != 0 and signature > hash value, replace signature with hash value\n",
    "        for c in range(cols):\n",
    "            if matrix[r,c] == 1:        # if value in matrix is 1 \n",
    "                for i in range(n_hash):\n",
    "                    if hashfunc[i] < minhash_sig_matrix[i,c]:  # if hashfunc is smaller than value in matrix\n",
    "                        minhash_sig_matrix[i,c] = hashfunc[i]  # then replace value in matrix with hashfunc\n",
    "\n",
    "        minhash_sig_df = pd.DataFrame(minhash_sig_matrix, columns=['S1', 'S2', 'S3', 'S4'], index=['h1','h2','h3'])\n",
    "        \n",
    "    return minhash_sig_df"
   ]
  },
  {
   "cell_type": "code",
   "execution_count": 19,
   "metadata": {},
   "outputs": [
    {
     "data": {
      "text/html": [
       "<div>\n",
       "<style scoped>\n",
       "    .dataframe tbody tr th:only-of-type {\n",
       "        vertical-align: middle;\n",
       "    }\n",
       "\n",
       "    .dataframe tbody tr th {\n",
       "        vertical-align: top;\n",
       "    }\n",
       "\n",
       "    .dataframe thead th {\n",
       "        text-align: right;\n",
       "    }\n",
       "</style>\n",
       "<table border=\"1\" class=\"dataframe\">\n",
       "  <thead>\n",
       "    <tr style=\"text-align: right;\">\n",
       "      <th></th>\n",
       "      <th>S1</th>\n",
       "      <th>S2</th>\n",
       "      <th>S3</th>\n",
       "      <th>S4</th>\n",
       "    </tr>\n",
       "  </thead>\n",
       "  <tbody>\n",
       "    <tr>\n",
       "      <td>h1</td>\n",
       "      <td>5</td>\n",
       "      <td>1</td>\n",
       "      <td>1</td>\n",
       "      <td>1</td>\n",
       "    </tr>\n",
       "    <tr>\n",
       "      <td>h2</td>\n",
       "      <td>2</td>\n",
       "      <td>2</td>\n",
       "      <td>2</td>\n",
       "      <td>2</td>\n",
       "    </tr>\n",
       "    <tr>\n",
       "      <td>h3</td>\n",
       "      <td>0</td>\n",
       "      <td>1</td>\n",
       "      <td>4</td>\n",
       "      <td>0</td>\n",
       "    </tr>\n",
       "  </tbody>\n",
       "</table>\n",
       "</div>"
      ],
      "text/plain": [
       "    S1  S2  S3  S4\n",
       "h1   5   1   1   1\n",
       "h2   2   2   2   2\n",
       "h3   0   1   4   0"
      ]
     },
     "execution_count": 19,
     "metadata": {},
     "output_type": "execute_result"
    }
   ],
   "source": [
    "minhash_sig_matrix(matrix, [h1, h2, h3])"
   ]
  },
  {
   "cell_type": "markdown",
   "metadata": {},
   "source": [
    "#### (B)"
   ]
  },
  {
   "cell_type": "code",
   "execution_count": 20,
   "metadata": {},
   "outputs": [],
   "source": [
    "# function to compute the values of each hash function to the rows\n",
    "# creates permutation of each row if it were a hash function\n",
    "\n",
    "def hash_permutation(matrix, hash_functions):\n",
    "    rows = len(matrix)           # number of rows\n",
    "    n_hash = len(hash_functions)   # number of hash functions \n",
    "    \n",
    "    hash_func = []\n",
    "    \n",
    "    for r in range(rows): \n",
    "        # map each hash function to the row #\n",
    "        compute_hash = list(map(lambda x: x(r), hash_functions))\n",
    "        # append to hash_func list each value\n",
    "        hash_func.append(compute_hash)\n",
    "    \n",
    "    # create dataframe of the hash functions and their rows\n",
    "    hash_func_df = pd.DataFrame(hash_func, columns=['h1', 'h2', 'h3'])\n",
    "    \n",
    "    return hash_func_df"
   ]
  },
  {
   "cell_type": "code",
   "execution_count": 21,
   "metadata": {},
   "outputs": [
    {
     "data": {
      "text/html": [
       "<div>\n",
       "<style scoped>\n",
       "    .dataframe tbody tr th:only-of-type {\n",
       "        vertical-align: middle;\n",
       "    }\n",
       "\n",
       "    .dataframe tbody tr th {\n",
       "        vertical-align: top;\n",
       "    }\n",
       "\n",
       "    .dataframe thead th {\n",
       "        text-align: right;\n",
       "    }\n",
       "</style>\n",
       "<table border=\"1\" class=\"dataframe\">\n",
       "  <thead>\n",
       "    <tr style=\"text-align: right;\">\n",
       "      <th></th>\n",
       "      <th>h1</th>\n",
       "      <th>h2</th>\n",
       "      <th>h3</th>\n",
       "    </tr>\n",
       "  </thead>\n",
       "  <tbody>\n",
       "    <tr>\n",
       "      <td>0</td>\n",
       "      <td>1</td>\n",
       "      <td>2</td>\n",
       "      <td>2</td>\n",
       "    </tr>\n",
       "    <tr>\n",
       "      <td>1</td>\n",
       "      <td>3</td>\n",
       "      <td>5</td>\n",
       "      <td>1</td>\n",
       "    </tr>\n",
       "    <tr>\n",
       "      <td>2</td>\n",
       "      <td>5</td>\n",
       "      <td>2</td>\n",
       "      <td>0</td>\n",
       "    </tr>\n",
       "    <tr>\n",
       "      <td>3</td>\n",
       "      <td>1</td>\n",
       "      <td>5</td>\n",
       "      <td>5</td>\n",
       "    </tr>\n",
       "    <tr>\n",
       "      <td>4</td>\n",
       "      <td>3</td>\n",
       "      <td>2</td>\n",
       "      <td>4</td>\n",
       "    </tr>\n",
       "    <tr>\n",
       "      <td>5</td>\n",
       "      <td>5</td>\n",
       "      <td>5</td>\n",
       "      <td>3</td>\n",
       "    </tr>\n",
       "  </tbody>\n",
       "</table>\n",
       "</div>"
      ],
      "text/plain": [
       "   h1  h2  h3\n",
       "0   1   2   2\n",
       "1   3   5   1\n",
       "2   5   2   0\n",
       "3   1   5   5\n",
       "4   3   2   4\n",
       "5   5   5   3"
      ]
     },
     "execution_count": 21,
     "metadata": {},
     "output_type": "execute_result"
    }
   ],
   "source": [
    "hash_permutation(matrix, [h1, h2, h3])"
   ]
  },
  {
   "cell_type": "markdown",
   "metadata": {},
   "source": [
    "When applying each hash function to each row for each sig, it results that h3 is a true permutation and h1 and h2 are not. This is because in h3, all rows have a different number, 0-5. There are no repeats. For h1 and h2, there are repeats of the same hash value for some of the rows. In h1, row 0 and row 3 have the same hash of 1. Row 1 and row 4 have the same hash of 3. Row 2 and row 5 have the same hash of 5. In h2, multiple rows have the same hash."
   ]
  },
  {
   "cell_type": "markdown",
   "metadata": {},
   "source": [
    "#### (C)"
   ]
  },
  {
   "cell_type": "raw",
   "metadata": {},
   "source": [
    "s1 = {0, 0, 1, 0, 0, 1}\n",
    "s2 = {1, 1, 0, 0, 0, 0}\n",
    "s3 = {0, 0, 0, 1, 1, 0}\n",
    "s4 = {1, 0, 1, 0, 1, 0}"
   ]
  },
  {
   "cell_type": "markdown",
   "metadata": {},
   "source": [
    "#### Set 1 vs. Set2"
   ]
  },
  {
   "cell_type": "markdown",
   "metadata": {},
   "source": [
    "\n",
    "estimated: .33\n",
    "\n",
    "true jaccard: 0\n",
    "\n",
    "These are close but different."
   ]
  },
  {
   "cell_type": "markdown",
   "metadata": {},
   "source": [
    "#### Set 1 vs. Set 3"
   ]
  },
  {
   "cell_type": "markdown",
   "metadata": {},
   "source": [
    "estimated: .33\n",
    "\n",
    "true jaccard: 0\n",
    "\n",
    "These are close but different."
   ]
  },
  {
   "cell_type": "markdown",
   "metadata": {},
   "source": [
    "#### Set 1 vs. Set 4"
   ]
  },
  {
   "cell_type": "markdown",
   "metadata": {},
   "source": [
    "estimated: .66\n",
    "\n",
    "true jaccard: .33\n",
    "\n",
    "These are close but different."
   ]
  },
  {
   "cell_type": "markdown",
   "metadata": {},
   "source": [
    "#### Set 2 vs. Set 3"
   ]
  },
  {
   "cell_type": "markdown",
   "metadata": {},
   "source": [
    "estimated: .66\n",
    "\n",
    "true jaccard: 0\n",
    "\n",
    "These not similar."
   ]
  },
  {
   "cell_type": "markdown",
   "metadata": {},
   "source": [
    "#### Set 2 vs. Set 4"
   ]
  },
  {
   "cell_type": "markdown",
   "metadata": {},
   "source": [
    "estimated: .66\n",
    "\n",
    "true jaccard: .25\n",
    "\n",
    "These not similar."
   ]
  },
  {
   "cell_type": "markdown",
   "metadata": {},
   "source": [
    "#### Set 3 vs. Set 4"
   ]
  },
  {
   "cell_type": "markdown",
   "metadata": {},
   "source": [
    "estimated: .66\n",
    "\n",
    "true jaccard: .25\n",
    "\n",
    "These are not similar."
   ]
  },
  {
   "cell_type": "markdown",
   "metadata": {},
   "source": [
    "### Exercise 3.4.1"
   ]
  },
  {
   "cell_type": "code",
   "execution_count": 22,
   "metadata": {},
   "outputs": [],
   "source": [
    "# probability that the signatures agree in all the rows of at least one band\n",
    "\n",
    "def s_curve(s, r, b):\n",
    "    output = []\n",
    "    for i in s:\n",
    "        output.append((1- (1 - (i**r))**b))\n",
    "        \n",
    "    return output"
   ]
  },
  {
   "cell_type": "code",
   "execution_count": 23,
   "metadata": {},
   "outputs": [],
   "source": [
    "s = [0.1, 0.2, 0.3, 0.4, 0.5, 0.6, 0.7, 0.8, 0.9]"
   ]
  },
  {
   "cell_type": "markdown",
   "metadata": {},
   "source": [
    "#### rows: 3 band:10"
   ]
  },
  {
   "cell_type": "code",
   "execution_count": 24,
   "metadata": {},
   "outputs": [
    {
     "data": {
      "text/plain": [
       "[0.009955119790251765,\n",
       " 0.07718058804273675,\n",
       " 0.23944889319887064,\n",
       " 0.4838707317677322,\n",
       " 0.7369244238361716,\n",
       " 0.9122674753991765,\n",
       " 0.985015105295655,\n",
       " 0.9992340538808936,\n",
       " 0.9999978635491371]"
      ]
     },
     "execution_count": 24,
     "metadata": {},
     "output_type": "execute_result"
    }
   ],
   "source": [
    "s_curve(s, 3, 10)"
   ]
  },
  {
   "cell_type": "markdown",
   "metadata": {},
   "source": [
    "The signatures start to agree in all the rows of at least one band where jaccard similarity is 0.07.\n",
    "\n"
   ]
  },
  {
   "cell_type": "markdown",
   "metadata": {},
   "source": [
    "#### rows: 6  band:20"
   ]
  },
  {
   "cell_type": "code",
   "execution_count": 25,
   "metadata": {},
   "outputs": [
    {
     "data": {
      "text/plain": [
       "[1.9999810001669616e-05,\n",
       " 0.001279222058761964,\n",
       " 0.014479466504172311,\n",
       " 0.07880932311056232,\n",
       " 0.27018714400947597,\n",
       " 0.6154146360312677,\n",
       " 0.9181859965846741,\n",
       " 0.9977121251546806,\n",
       " 0.9999997398129465]"
      ]
     },
     "execution_count": 25,
     "metadata": {},
     "output_type": "execute_result"
    }
   ],
   "source": [
    "s_curve(s, 6, 20)"
   ]
  },
  {
   "cell_type": "markdown",
   "metadata": {},
   "source": [
    "The signatures start to agree in all the rows of at least one band where jaccard similarity is 0.08."
   ]
  },
  {
   "cell_type": "markdown",
   "metadata": {},
   "source": [
    "#### rows:5 band: 50"
   ]
  },
  {
   "cell_type": "code",
   "execution_count": 26,
   "metadata": {},
   "outputs": [
    {
     "data": {
      "text/plain": [
       "[0.0004998775195954597,\n",
       " 0.01587519984502117,\n",
       " 0.11453988231042189,\n",
       " 0.4022839522088044,\n",
       " 0.7955506304323648,\n",
       " 0.9825338277068608,\n",
       " 0.9998989958361557,\n",
       " 0.9999999976077777,\n",
       " 1.0]"
      ]
     },
     "execution_count": 26,
     "metadata": {},
     "output_type": "execute_result"
    }
   ],
   "source": [
    "s_curve(s, 5, 50)"
   ]
  },
  {
   "cell_type": "markdown",
   "metadata": {},
   "source": [
    "The signatures start to agree in all the rows of at least one band where jaccard similarity is 0.06."
   ]
  }
 ],
 "metadata": {
  "kernelspec": {
   "display_name": "Python 3",
   "language": "python",
   "name": "python3"
  },
  "language_info": {
   "codemirror_mode": {
    "name": "ipython",
    "version": 3
   },
   "file_extension": ".py",
   "mimetype": "text/x-python",
   "name": "python",
   "nbconvert_exporter": "python",
   "pygments_lexer": "ipython3",
   "version": "3.7.4"
  }
 },
 "nbformat": 4,
 "nbformat_minor": 2
}
