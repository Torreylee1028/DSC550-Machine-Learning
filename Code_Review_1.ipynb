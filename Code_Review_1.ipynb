{
 "cells": [
  {
   "cell_type": "markdown",
   "metadata": {},
   "source": [
    "## Code Review 1\n",
    "## Exercise 2: Non-Derivable Itemsets"
   ]
  },
  {
   "cell_type": "code",
   "execution_count": 1,
   "metadata": {},
   "outputs": [],
   "source": [
    "import itertools"
   ]
  },
  {
   "cell_type": "markdown",
   "metadata": {},
   "source": [
    "#### Set up files"
   ]
  },
  {
   "cell_type": "code",
   "execution_count": 2,
   "metadata": {},
   "outputs": [],
   "source": [
    "'''\n",
    "function to create dictionary from itemsets/supports file\n",
    "output is dictionary with key: itemsets as frozen sets and value: support\n",
    "'''\n",
    "\n",
    "def create_dict_from_file(filename):\n",
    "    f = open(filename, 'r')\n",
    "    d = {}\n",
    "    # for each line in f\n",
    "    for lines in f:\n",
    "        # key and value splits on -\n",
    "        k,v = [j.rstrip(\"\\n\") for j in lines.split(' - ') if j != '\\n']\n",
    "        # create key \n",
    "        fznset = frozenset(k.split(' '))\n",
    "        # update dictionary with the frozen set of itemsets as key, and value as supports\n",
    "        d[fznset] = int(v)\n",
    "    return d"
   ]
  },
  {
   "cell_type": "code",
   "execution_count": 3,
   "metadata": {},
   "outputs": [],
   "source": [
    "'''\n",
    "function to create itemsets from ndi file\n",
    "output is list of sets for each itemset\n",
    "'''\n",
    "\n",
    "def create_itemsets(filename):\n",
    "    f = open(filename, 'r')\n",
    "    # create empty list\n",
    "    itemsets = []\n",
    "    # for each line in file\n",
    "    for line in f:\n",
    "        # strip whitepsace\n",
    "        lines = [j.rstrip(\"\\n\") for j in line.split(' ') if j != '\\n']\n",
    "        # append each line as a set to the list\n",
    "        itemsets.append(set(lines))    \n",
    "    \n",
    "    return itemsets"
   ]
  },
  {
   "cell_type": "markdown",
   "metadata": {},
   "source": [
    "#### Create powerset function"
   ]
  },
  {
   "cell_type": "code",
   "execution_count": 4,
   "metadata": {},
   "outputs": [],
   "source": [
    "'''\n",
    "function to get all subsets of a itemset\n",
    "output is a set of all sets\n",
    "takes one itemset (single_set)\n",
    "'''\n",
    "\n",
    "def get_powersets(single_set):\n",
    "    # create empty list\n",
    "    ps_list = []\n",
    "    # for each element in the itemset, create its combinations subset for the length of the itemset\n",
    "    sub = sum([list(map(list, itertools.combinations(single_set, i))) for i in range(len(single_set) + 1)], [])\n",
    "    # for each element in the subsets\n",
    "    for j in sub:\n",
    "        # add it to the ps_list as a frozenset\n",
    "        ps_list.append(frozenset(j))\n",
    "    # create ps as a set of ps_list\n",
    "    ps = set(ps_list)\n",
    "    return ps    "
   ]
  },
  {
   "cell_type": "markdown",
   "metadata": {},
   "source": [
    "#### Compute bound function"
   ]
  },
  {
   "cell_type": "code",
   "execution_count": 5,
   "metadata": {},
   "outputs": [],
   "source": [
    "'''\n",
    "function to compute bound value\n",
    "output is the bound value for that current subset\n",
    "takes current itemset working on (i), current subset in the itemset (c), current element in the current subset (s), and suports\n",
    "'''\n",
    "\n",
    "def compute_bound(cur_itemset, cur_subset, sub_sets, supports):\n",
    "    # set bound_val to 0\n",
    "    bound_val = 0\n",
    "    # for each element (s) in current subset (c)\n",
    "    for s in sub_sets:\n",
    "        # if current subset (c) is a subset of s. if it is not a subset, we do nothing, as we move upwards in the subset lattice\n",
    "        # ex: if current subset (c) is 'AB' and we are working towards 'ABC' and (s) is 'A', we skip 'A' as it 'AB' is not a subset of 'A'\n",
    "        # you can be a subset of yourself. 'AB' is a subset of 'AB'\n",
    "        # empty set is a subset of all subsets\n",
    "        if cur_subset.issubset(s):\n",
    "            # if s is empty set\n",
    "            if s == set(): \n",
    "                # sum all support values in file, as they everything that is not the set\n",
    "                empty = sum(supports.values()) \n",
    "                # compute coef if the support is a subtraction or addtion in the support lattic\n",
    "                # length of current itemset - length of s\n",
    "                # ex: len(AB) - len(A) = 1, -1^2 = 1\n",
    "                coef = (-1)**(len(cur_itemset.difference(s)) + 1)\n",
    "                # add to bound value coef x empty support val\n",
    "                bound_val += (coef*empty)\n",
    "            # or if current subset(c) is the same as current itemset (i) (this is the last value at the top of the lattice)\n",
    "            elif c == cur_itemset:\n",
    "                # get the support of s, do not calculate coef as it will be positive\n",
    "                sup_s = supports.get(s)\n",
    "                # add the support to bound value\n",
    "                bound_val += sup_s\n",
    "            # else if none of the above, and c is subset of s, \n",
    "            else:\n",
    "                # get the support of s\n",
    "                sup_s = supports.get(s)\n",
    "                # calculate coeficient\n",
    "                coef = (-1) ** (len(cur_itemset.difference(s)) + 1)\n",
    "                # multiply coef X support and add to bound value\n",
    "                bound_val += (coef*sup_s)\n",
    "    return bound_val"
   ]
  },
  {
   "cell_type": "markdown",
   "metadata": {},
   "source": [
    "#### Evaluate results"
   ]
  },
  {
   "cell_type": "code",
   "execution_count": 6,
   "metadata": {},
   "outputs": [],
   "source": [
    "'''\n",
    "function to evaluate the upper and lower bounds\n",
    "output is the max lower bound and min upper bound and if it is derivable or not\n",
    "takes current itemset (i), lower_bound, upper_bound\n",
    "'''\n",
    "\n",
    "def results (i, lower_bound, upper_bound):\n",
    "    # if the max lower is the same as the min upper\n",
    "    if max(lower_bound)==min(upper_bound):\n",
    "        # it is derivable\n",
    "        deriv = 'derivable'\n",
    "    # else it is not derivable\n",
    "    else:\n",
    "        deriv = 'non-derivable'\n",
    "    results = '{}: \\t [lb: {}] \\t [ub: {}] \\t {} \\n'.format(i, max(lower_bound), min(upper_bound), deriv)\n",
    "    return results"
   ]
  },
  {
   "cell_type": "markdown",
   "metadata": {},
   "source": [
    "#### Main"
   ]
  },
  {
   "cell_type": "code",
   "execution_count": 7,
   "metadata": {},
   "outputs": [
    {
     "name": "stdout",
     "output_type": "stream",
     "text": [
      "{'52', '40', '29', '34', '62'}: \t [lb: 2888] \t [ub: 0] \t non-derivable \n",
      "\n",
      "{'29', '7'}: \t [lb: 3069] \t [ub: 7] \t non-derivable \n",
      "\n",
      "{'48', '29', '58'}: \t [lb: 2997] \t [ub: 1] \t non-derivable \n",
      "\n",
      "{'52', '60', '40', '29', '36', '58', '7'}: \t [lb: 2890] \t [ub: 0] \t non-derivable \n",
      "\n",
      "{'52', '5', '60', '40'}: \t [lb: 2893] \t [ub: 0] \t non-derivable \n",
      "\n",
      "{'58', '36', '40', '7'}: \t [lb: 2952] \t [ub: 0] \t non-derivable \n",
      "\n",
      "{'52', '66', '60', '40', '36', '58'}: \t [lb: 2888] \t [ub: 0] \t non-derivable \n",
      "\n"
     ]
    }
   ],
   "source": [
    "supports = create_dict_from_file('itemsets.txt')\n",
    "itemsets = create_itemsets('ndi.txt')\n",
    "\n",
    "# for each itemset in the ndi file\n",
    "for i in itemsets:\n",
    "    lower_bound = {0}\n",
    "    upper_bound = set({})\n",
    "    # call get_powersets function to get all subsets of the current itemset in the file\n",
    "    sub_set = get_powersets(i)\n",
    "    # for each subset (c) in the powersets for the current itemset (i)\n",
    "    for c in sub_set:\n",
    "        # if the length of the current item set (i) without the current subset (c) is even \n",
    "        if len(i.difference(c))%2 == 0:\n",
    "            # compute lower bound value\n",
    "            low = compute_bound(i, c, sub_set, supports)\n",
    "            # add lower bound value to lower_bound list\n",
    "            lower_bound.add(low)\n",
    "        # else if it is odd\n",
    "        else: \n",
    "            # compute upper bound value\n",
    "            up = compute_bound(i, c, sub_set, supports)\n",
    "            # add to upper_bound list\n",
    "            upper_bound.add(up)\n",
    "               \n",
    "    \n",
    "    print(results(i, lower_bound, upper_bound))\n",
    "    "
   ]
  },
  {
   "cell_type": "code",
   "execution_count": null,
   "metadata": {},
   "outputs": [],
   "source": []
  }
 ],
 "metadata": {
  "kernelspec": {
   "display_name": "Python 3",
   "language": "python",
   "name": "python3"
  },
  "language_info": {
   "codemirror_mode": {
    "name": "ipython",
    "version": 3
   },
   "file_extension": ".py",
   "mimetype": "text/x-python",
   "name": "python",
   "nbconvert_exporter": "python",
   "pygments_lexer": "ipython3",
   "version": "3.7.4"
  }
 },
 "nbformat": 4,
 "nbformat_minor": 2
}
